{
 "cells": [
  {
   "cell_type": "markdown",
   "metadata": {},
   "source": [
    "### Задача 1"
   ]
  },
  {
   "cell_type": "code",
   "execution_count": 11,
   "metadata": {},
   "outputs": [
    {
     "name": "stdout",
     "output_type": "stream",
     "text": [
      "Фраза 1 длиннее Фразы 2\n"
     ]
    }
   ],
   "source": [
    "phrase_1 = 'Насколько проще было бы писать программы, если бы не заказчики'\n",
    "phrase_2 = '640Кб должно хватить для любых задач. Билл Гейтс (по легенде)'\n",
    "\n",
    "if len(phrase_1) > len(phrase_2):\n",
    "    print('Фраза 1 длиннее Фразы 2')\n",
    "elif en(phrase_1) == len(phrase_2):\n",
    "    print('Фразы равной длины')\n",
    "else: \n",
    "    print('Фраза 2 длиннее Фразы 1')"
   ]
  },
  {
   "cell_type": "code",
   "execution_count": 14,
   "metadata": {},
   "outputs": [
    {
     "name": "stdout",
     "output_type": "stream",
     "text": [
      "Фраза 2 длиннее Фразы 1\n"
     ]
    }
   ],
   "source": [
    "phrase_1 = '640Кб должно хватить для любых задач. Билл Гейтс (по легенде)'\n",
    "phrase_2 = 'Насколько проще было бы писать программы, если бы не заказчики'\n",
    "\n",
    "if len(phrase_1) > len(phrase_2):\n",
    "    print('Фраза 1 длиннее Фразы 2')\n",
    "elif len(phrase_1) == len(phrase_2):\n",
    "    print('Фразы равной длины')\n",
    "else: \n",
    "    print('Фраза 2 длиннее Фразы 1')"
   ]
  },
  {
   "cell_type": "code",
   "execution_count": 20,
   "metadata": {},
   "outputs": [
    {
     "name": "stdout",
     "output_type": "stream",
     "text": [
      "Фразы равной длины\n"
     ]
    }
   ],
   "source": [
    "phrase_1 = 'Насколько проще было бы писать программы, если бы не заказчики'\n",
    "phrase_2 = 'Насколько проще было бы писать программы, если бы не заказчики'\n",
    "\n",
    "if len(phrase_1) > len(phrase_2):\n",
    "    print('Фраза 1 длиннее Фразы 2')\n",
    "elif len(phrase_1) == len(phrase_2):\n",
    "    print('Фразы равной длины')\n",
    "else: \n",
    "    print('Фраза 2 длиннее Фразы 1')"
   ]
  },
  {
   "cell_type": "markdown",
   "metadata": {},
   "source": [
    "### Задача 2"
   ]
  },
  {
   "cell_type": "code",
   "execution_count": 59,
   "metadata": {},
   "outputs": [
    {
     "name": "stdout",
     "output_type": "stream",
     "text": [
      "Введите год 2020\n",
      "Високосный год\n"
     ]
    }
   ],
   "source": [
    "year = int(input('Введите год '))\n",
    "\n",
    "if year % 4 != 0:\n",
    "    print(\"Обычный\")\n",
    "elif year % 100 == 0:\n",
    "    if year % 400 == 0:\n",
    "        print(\"Високосный год\")\n",
    "    else:\n",
    "        print(\"Обычный год\")\n",
    "else:\n",
    "    print(\"Високосный год\")"
   ]
  },
  {
   "cell_type": "markdown",
   "metadata": {},
   "source": [
    "### Задача 3"
   ]
  },
  {
   "cell_type": "code",
   "execution_count": 58,
   "metadata": {},
   "outputs": [
    {
     "name": "stdout",
     "output_type": "stream",
     "text": [
      "Определитель знака зодиака по дате рождения\n",
      "Введите месяц (с маленькой буквы) август\n",
      "Введите день 30\n",
      "Дева\n"
     ]
    }
   ],
   "source": [
    "print('Определитель знака зодиака по дате рождения')\n",
    "month = str(input('Введите месяц (с маленькой буквы) '))\n",
    "day = int(input('Введите день '))\n",
    "if month.lower =='март' and day >= 21 and day <= 31:\n",
    "    print('Овен')\n",
    "elif month == 'апрель' and day >= 1 and day <= 20:\n",
    "    print('Овен')\n",
    "elif month == 'апрель' and day >= 21 and day <= 31:\n",
    "    print('Телец')\n",
    "elif month == 'май' and day >= 1 and day <= 20:\n",
    "    print('Телец')\n",
    "elif month == 'май' and day >= 21 and day <= 31:\n",
    "    print('Близнецы')\n",
    "elif month == 'июнь' and day >= 1 and day <= 21:\n",
    "    print('Близнецы')\n",
    "elif month == 'июнь' and day >= 22 and day <= 31:\n",
    "    print('Рак')\n",
    "elif month == 'июль' and day >= 1 and day <= 22:\n",
    "    print('Рак')\n",
    "elif month == 'июль' and day >= 23 and day <= 31:\n",
    "    print('Лев')\n",
    "elif month == 'август' and day >= 1 and day <= 23:\n",
    "    print('Лев')\n",
    "elif month == 'август' and day >= 24 and day <= 31:\n",
    "    print('Дева')\n",
    "elif month == 'сентябрь' and day >= 1 and day <= 23:\n",
    "    print('Дева')\n",
    "elif month == 'сентябрь' and day >= 24 and day <= 31:\n",
    "    print('Весы')\n",
    "elif month == 'октябрь' and day >= 1 and day <= 23:\n",
    "    print('Весы')\n",
    "elif month == 'октябрь' and day >= 24 and day <= 31:\n",
    "    print('Скорпион')\n",
    "elif month == 'ноябрь' and day >= 1 and day <= 22:\n",
    "    print('Скорпион')\n",
    "elif month == 'ноябрь' and day >= 23 and day <= 31:\n",
    "    print('Стрелец')\n",
    "elif month == 'декабрь' and day >= 1 and day <= 21:\n",
    "    print('Стрелец')\n",
    "elif month == 'декабрь' and day >= 22 and day <= 31:\n",
    "    print('Козерог')\n",
    "elif month == 'январь' and day >= 1 and day <=20:\n",
    "    print('Козерог')\n",
    "elif month == 'январь' and day >= 21 and day <= 31:\n",
    "    print('Водолей')\n",
    "elif month == 'февраль' and day >= 1 and day <= 20:\n",
    "    print('Водолей')\n",
    "elif month == 'февраль' and day >= 21 and day <=31:\n",
    "    print('Рыбы')\n",
    "elif month == 'март' and day >= 1 and day <= 20:\n",
    "    print('Рыбы')\n",
    "else:\n",
    "    print('Ошибка, перепроверьте введенные данные!')"
   ]
  },
  {
   "cell_type": "markdown",
   "metadata": {},
   "source": [
    "### Задача 4"
   ]
  },
  {
   "cell_type": "code",
   "execution_count": 56,
   "metadata": {},
   "outputs": [
    {
     "name": "stdout",
     "output_type": "stream",
     "text": [
      "Определитель размера коробки\n",
      "Введите ширину вашего товара 13\n",
      "Введите длину вашего товара 14\n",
      "Введите высоту вашего товара 16\n",
      "Вам необходима Коробка №2\n"
     ]
    }
   ],
   "source": [
    "print('Определитель размера коробки')\n",
    "width = int(input('Введите ширину вашего товара '))\n",
    "length = int(input('Введите длину вашего товара '))\n",
    "height = int(input('Введите высоту вашего товара '))\n",
    "\n",
    "if width <= 15 and length <= 15 and height <= 15:\n",
    "    print('Вам необходима Коробка №1')\n",
    "elif 50 >= width >= 15 or 50 >= length >= 15 or 50 >= height >= 15:\n",
    "    print('Вам необходима Коробка №2')\n",
    "elif length > 200:\n",
    "    print('Вам необходима Упаковка для лыж')\n",
    "else:\n",
    "    print('Вам необходима Стандартная коробка №3')"
   ]
  },
  {
   "cell_type": "code",
   "execution_count": null,
   "metadata": {},
   "outputs": [],
   "source": []
  },
  {
   "cell_type": "code",
   "execution_count": null,
   "metadata": {},
   "outputs": [],
   "source": []
  },
  {
   "cell_type": "code",
   "execution_count": null,
   "metadata": {},
   "outputs": [],
   "source": []
  },
  {
   "cell_type": "code",
   "execution_count": null,
   "metadata": {},
   "outputs": [],
   "source": []
  },
  {
   "cell_type": "code",
   "execution_count": null,
   "metadata": {},
   "outputs": [],
   "source": []
  },
  {
   "cell_type": "code",
   "execution_count": null,
   "metadata": {},
   "outputs": [],
   "source": []
  },
  {
   "cell_type": "code",
   "execution_count": null,
   "metadata": {},
   "outputs": [],
   "source": []
  },
  {
   "cell_type": "code",
   "execution_count": null,
   "metadata": {},
   "outputs": [],
   "source": []
  },
  {
   "cell_type": "code",
   "execution_count": null,
   "metadata": {},
   "outputs": [],
   "source": []
  }
 ],
 "metadata": {
  "kernelspec": {
   "display_name": "Python 3",
   "language": "python",
   "name": "python3"
  }
 },
 "nbformat": 4,
 "nbformat_minor": 4
}
